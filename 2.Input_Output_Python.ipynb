{
  "nbformat": 4,
  "nbformat_minor": 0,
  "metadata": {
    "colab": {
      "name": "Input-Output_Pythonipynb",
      "provenance": []
    },
    "kernelspec": {
      "name": "python3",
      "display_name": "Python 3"
    },
    "language_info": {
      "name": "python"
    }
  },
  "cells": [
    {
      "cell_type": "markdown",
      "source": [
        "#Taking Input\n",
        "\n",
        "Input –or input- (in the context of programming) is any data, information, or value that is sent by the user to the computer for further processing.\n",
        "\n",
        "The input() function accepts a string parameter, which parameter will be displayed on the screen before the user enters data."
      ],
      "metadata": {
        "id": "Bv0ggfkIxbnr"
      }
    },
    {
      "cell_type": "code",
      "source": [
        "nama = input('Nama Kelompok')"
      ],
      "metadata": {
        "colab": {
          "base_uri": "https://localhost:8080/"
        },
        "id": "oERkh3vBxt3Z",
        "outputId": "da9863cc-17e2-4496-ad8a-870f503144dd"
      },
      "execution_count": 10,
      "outputs": [
        {
          "name": "stdout",
          "output_type": "stream",
          "text": [
            "Nama KelompokMatplotlab\n"
          ]
        }
      ]
    },
    {
      "cell_type": "code",
      "source": [
        "print('Halo', nama, 'selamat datang!')"
      ],
      "metadata": {
        "colab": {
          "base_uri": "https://localhost:8080/"
        },
        "id": "VFcotjUnx-Wq",
        "outputId": "5490ae0f-3f21-4698-b19e-52f8513c5015"
      },
      "execution_count": 12,
      "outputs": [
        {
          "output_type": "stream",
          "name": "stdout",
          "text": [
            "Halo Matplotlab selamat datang!\n"
          ]
        }
      ]
    },
    {
      "cell_type": "markdown",
      "source": [
        "String input value"
      ],
      "metadata": {
        "id": "YhjaFRmKyV0p"
      }
    },
    {
      "cell_type": "code",
      "source": [
        "nama = input('nama anggota')"
      ],
      "metadata": {
        "colab": {
          "base_uri": "https://localhost:8080/"
        },
        "id": "upcC13v0yZd9",
        "outputId": "b120c759-fba9-4784-fff2-653cb8adc42d"
      },
      "execution_count": 13,
      "outputs": [
        {
          "name": "stdout",
          "output_type": "stream",
          "text": [
            "nama anggotaSari, Putri, Rere, Tobias, Daud\n"
          ]
        }
      ]
    },
    {
      "cell_type": "code",
      "source": [
        "print('Variabel nama bertipe data', type(nama))"
      ],
      "metadata": {
        "colab": {
          "base_uri": "https://localhost:8080/"
        },
        "id": "d-fYqGqPylwt",
        "outputId": "12a99856-5536-4fbc-fa6d-12aa8025e7f2"
      },
      "execution_count": 14,
      "outputs": [
        {
          "output_type": "stream",
          "name": "stdout",
          "text": [
            "Variabel nama bertipe data <class 'str'>\n"
          ]
        }
      ]
    },
    {
      "cell_type": "code",
      "source": [
        "print('Kalkulasi luas persegi panjang/n')"
      ],
      "metadata": {
        "colab": {
          "base_uri": "https://localhost:8080/"
        },
        "id": "8SfKSR2iyu20",
        "outputId": "1efe1a51-feef-4e13-be09-238b06018620"
      },
      "execution_count": 15,
      "outputs": [
        {
          "output_type": "stream",
          "name": "stdout",
          "text": [
            "Kalkulasi luas persegi panjang/n\n"
          ]
        }
      ]
    },
    {
      "cell_type": "code",
      "source": [
        "panjang = input('panjang')\n",
        "lebar = input('lebar')\n",
        "\n",
        "print('luas=',panjang*lebar)"
      ],
      "metadata": {
        "colab": {
          "base_uri": "https://localhost:8080/",
          "height": 235
        },
        "id": "nYqD7xfoy3ox",
        "outputId": "4e39a7a1-06d2-4225-f909-2e63820946c1"
      },
      "execution_count": 18,
      "outputs": [
        {
          "name": "stdout",
          "output_type": "stream",
          "text": [
            "panjang30\n",
            "lebar5\n"
          ]
        },
        {
          "output_type": "error",
          "ename": "TypeError",
          "evalue": "ignored",
          "traceback": [
            "\u001b[0;31m---------------------------------------------------------------------------\u001b[0m",
            "\u001b[0;31mTypeError\u001b[0m                                 Traceback (most recent call last)",
            "\u001b[0;32m<ipython-input-18-d3bb8ab77c76>\u001b[0m in \u001b[0;36m<module>\u001b[0;34m()\u001b[0m\n\u001b[1;32m      2\u001b[0m \u001b[0mlebar\u001b[0m \u001b[0;34m=\u001b[0m \u001b[0minput\u001b[0m\u001b[0;34m(\u001b[0m\u001b[0;34m'lebar'\u001b[0m\u001b[0;34m)\u001b[0m\u001b[0;34m\u001b[0m\u001b[0;34m\u001b[0m\u001b[0m\n\u001b[1;32m      3\u001b[0m \u001b[0;34m\u001b[0m\u001b[0m\n\u001b[0;32m----> 4\u001b[0;31m \u001b[0mprint\u001b[0m\u001b[0;34m(\u001b[0m\u001b[0;34m'luas='\u001b[0m\u001b[0;34m,\u001b[0m \u001b[0mpanjang\u001b[0m\u001b[0;34m*\u001b[0m\u001b[0mlebar\u001b[0m\u001b[0;34m)\u001b[0m\u001b[0;34m\u001b[0m\u001b[0;34m\u001b[0m\u001b[0m\n\u001b[0m",
            "\u001b[0;31mTypeError\u001b[0m: can't multiply sequence by non-int of type 'str'"
          ]
        }
      ]
    },
    {
      "cell_type": "code",
      "source": [
        "type(10)\n",
        "type('10')\n",
        "type(int('10'))"
      ],
      "metadata": {
        "colab": {
          "base_uri": "https://localhost:8080/"
        },
        "id": "LDekreCvzWkk",
        "outputId": "a9ad7e01-5015-4734-a9ef-53ddc6ea3818"
      },
      "execution_count": 20,
      "outputs": [
        {
          "output_type": "execute_result",
          "data": {
            "text/plain": [
              "int"
            ]
          },
          "metadata": {},
          "execution_count": 20
        }
      ]
    },
    {
      "cell_type": "markdown",
      "source": [
        "#Displaying Output"
      ],
      "metadata": {
        "id": "KZLTubByz9EJ"
      }
    },
    {
      "cell_type": "code",
      "source": [
        "print('Selamat data Team Matplotlab')"
      ],
      "metadata": {
        "colab": {
          "base_uri": "https://localhost:8080/"
        },
        "id": "nGpjcgu30HSA",
        "outputId": "fbd946a5-6784-4e65-b5e5-74c244a9a596"
      },
      "execution_count": 21,
      "outputs": [
        {
          "output_type": "stream",
          "name": "stdout",
          "text": [
            "Selamat data Team Matplotlab\n"
          ]
        }
      ]
    },
    {
      "cell_type": "code",
      "source": [
        "Anggota = 5\n",
        "print('Anggotanya terdiri dari', Anggota, 'orang')"
      ],
      "metadata": {
        "colab": {
          "base_uri": "https://localhost:8080/"
        },
        "id": "2I2avcwU0Mou",
        "outputId": "bae40c44-31d9-490e-f72d-d4f3d6a50a4b"
      },
      "execution_count": 22,
      "outputs": [
        {
          "output_type": "stream",
          "name": "stdout",
          "text": [
            "Anggotanya terdiri dari 5 orang\n"
          ]
        }
      ]
    }
  ]
}