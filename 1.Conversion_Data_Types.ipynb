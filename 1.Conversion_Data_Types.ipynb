{
  "nbformat": 4,
  "nbformat_minor": 0,
  "metadata": {
    "colab": {
      "name": "Conversion_Data_Types.ipynb",
      "provenance": [],
      "collapsed_sections": []
    },
    "kernelspec": {
      "name": "python3",
      "display_name": "Python 3"
    },
    "language_info": {
      "name": "python"
    }
  },
  "cells": [
    {
      "cell_type": "markdown",
      "source": [
        "# Conversion Between Data Types\n",
        "\n",
        "Data type conversion is a technique of changing the initial value of data type a, to data type b. There are 2 ways to convert data types:\n",
        "1. Implicit Conversion (automatic)\n",
        "2. Convert explicitly (manual)"
      ],
      "metadata": {
        "id": "Fwp-dvzZnAC3"
      }
    },
    {
      "cell_type": "code",
      "execution_count": 2,
      "metadata": {
        "id": "Mu8siGeylPeF"
      },
      "outputs": [],
      "source": [
        "nama = 'Matplotlib'"
      ]
    },
    {
      "cell_type": "code",
      "source": [
        "print(nama)"
      ],
      "metadata": {
        "colab": {
          "base_uri": "https://localhost:8080/"
        },
        "id": "y6BFblPWoBDh",
        "outputId": "1b41e54e-2c62-4282-956e-4f330ef9d9f0"
      },
      "execution_count": 3,
      "outputs": [
        {
          "output_type": "stream",
          "name": "stdout",
          "text": [
            "Matplotlib\n"
          ]
        }
      ]
    },
    {
      "cell_type": "code",
      "source": [
        "type(nama)"
      ],
      "metadata": {
        "colab": {
          "base_uri": "https://localhost:8080/"
        },
        "id": "o0iR77VxoD0L",
        "outputId": "c9356339-d949-4ee7-9cb9-aeefdf254ae2"
      },
      "execution_count": 4,
      "outputs": [
        {
          "output_type": "execute_result",
          "data": {
            "text/plain": [
              "str"
            ]
          },
          "metadata": {},
          "execution_count": 4
        }
      ]
    },
    {
      "cell_type": "markdown",
      "source": [
        "Checking Type of Data Type"
      ],
      "metadata": {
        "id": "yRGAgnKCot6N"
      }
    },
    {
      "cell_type": "code",
      "source": [
        "nama = 'Sari', 'Regina', 'Putri', 'Tobias', 'Daud'\n",
        "usia = 20\n",
        "mahasiswa = 'true'"
      ],
      "metadata": {
        "id": "UzVCE4kioKsK"
      },
      "execution_count": 7,
      "outputs": []
    },
    {
      "cell_type": "code",
      "source": [
        "print(type(nama))\n",
        "print(type(usia))\n",
        "print(type(mahasiswa))"
      ],
      "metadata": {
        "colab": {
          "base_uri": "https://localhost:8080/"
        },
        "id": "GmknfyNsojA1",
        "outputId": "d3ef1042-cfb5-4879-a7e6-ff711db543b1"
      },
      "execution_count": 8,
      "outputs": [
        {
          "output_type": "stream",
          "name": "stdout",
          "text": [
            "<class 'tuple'>\n",
            "<class 'int'>\n",
            "<class 'str'>\n"
          ]
        }
      ]
    },
    {
      "cell_type": "markdown",
      "source": [
        "## Conversion"
      ],
      "metadata": {
        "id": "5Y3AkmHmpHh_"
      }
    },
    {
      "cell_type": "code",
      "source": [
        "usia = input('20')"
      ],
      "metadata": {
        "colab": {
          "base_uri": "https://localhost:8080/"
        },
        "id": "0RZx3AWop2Iy",
        "outputId": "8280a762-47b2-43ac-fb29-bd46eacf39dd"
      },
      "execution_count": 10,
      "outputs": [
        {
          "name": "stdout",
          "output_type": "stream",
          "text": [
            "2020\n"
          ]
        }
      ]
    },
    {
      "cell_type": "code",
      "source": [
        "print(type(usia))"
      ],
      "metadata": {
        "colab": {
          "base_uri": "https://localhost:8080/"
        },
        "id": "m6sCYvcFp5w9",
        "outputId": "d29d617f-8d0d-48b7-ff6d-f335ff10cbdd"
      },
      "execution_count": 11,
      "outputs": [
        {
          "output_type": "stream",
          "name": "stdout",
          "text": [
            "<class 'str'>\n"
          ]
        }
      ]
    },
    {
      "cell_type": "markdown",
      "source": [
        "if we try to operate (eg multiplication) string and integer, or string and string, then (in general) we will get an error. Example:"
      ],
      "metadata": {
        "id": "1v0Dc-6gqBuK"
      }
    },
    {
      "cell_type": "code",
      "source": [
        "Tinggi = ('150', '167', '180', '188', '155')\n",
        "Berat = ('45', '50', '60', '66', '70')"
      ],
      "metadata": {
        "id": "dJXn8uwDqH1y"
      },
      "execution_count": 13,
      "outputs": []
    },
    {
      "cell_type": "code",
      "source": [
        "print('Luas =', Tinggi*Berat)"
      ],
      "metadata": {
        "colab": {
          "base_uri": "https://localhost:8080/",
          "height": 165
        },
        "id": "VPKM9mduqf6_",
        "outputId": "b63e5b12-ab71-448b-a65b-49f619b57ad9"
      },
      "execution_count": 14,
      "outputs": [
        {
          "output_type": "error",
          "ename": "TypeError",
          "evalue": "ignored",
          "traceback": [
            "\u001b[0;31m---------------------------------------------------------------------------\u001b[0m",
            "\u001b[0;31mTypeError\u001b[0m                                 Traceback (most recent call last)",
            "\u001b[0;32m<ipython-input-14-c2fe82bbc8f6>\u001b[0m in \u001b[0;36m<module>\u001b[0;34m()\u001b[0m\n\u001b[0;32m----> 1\u001b[0;31m \u001b[0mprint\u001b[0m\u001b[0;34m(\u001b[0m\u001b[0;34m'Luas ='\u001b[0m\u001b[0;34m,\u001b[0m \u001b[0mTinggi\u001b[0m\u001b[0;34m*\u001b[0m\u001b[0mBerat\u001b[0m\u001b[0;34m)\u001b[0m\u001b[0;34m\u001b[0m\u001b[0;34m\u001b[0m\u001b[0m\n\u001b[0m",
            "\u001b[0;31mTypeError\u001b[0m: can't multiply sequence by non-int of type 'tuple'"
          ]
        }
      ]
    },
    {
      "cell_type": "markdown",
      "source": [
        "# Implicit data type conversion"
      ],
      "metadata": {
        "id": "g0tmXlD6qtIp"
      }
    },
    {
      "cell_type": "code",
      "source": [
        "a = 10/2\n",
        "b = 1/2"
      ],
      "metadata": {
        "id": "h1XekQv_qwxr"
      },
      "execution_count": 16,
      "outputs": []
    },
    {
      "cell_type": "code",
      "source": [
        "print(type(a))\n",
        "print(type(b))"
      ],
      "metadata": {
        "colab": {
          "base_uri": "https://localhost:8080/"
        },
        "id": "sukTT7acq3U9",
        "outputId": "c15c0c92-4903-4b99-ff1d-dbdeb79caa36"
      },
      "execution_count": 17,
      "outputs": [
        {
          "output_type": "stream",
          "name": "stdout",
          "text": [
            "<class 'float'>\n",
            "<class 'float'>\n"
          ]
        }
      ]
    },
    {
      "cell_type": "code",
      "source": [
        "c = 10+5 #hasil integer\n",
        "d = 10 + 5.0 #hasil float\n",
        "e = 10.5 - 3 #hasilnya float"
      ],
      "metadata": {
        "id": "g4kZKUA2q8Ku"
      },
      "execution_count": 18,
      "outputs": []
    },
    {
      "cell_type": "code",
      "source": [
        "print(type(c))\n",
        "print(type(d))\n",
        "print(type(e))"
      ],
      "metadata": {
        "colab": {
          "base_uri": "https://localhost:8080/"
        },
        "id": "DkQmf2LmrLO1",
        "outputId": "a77a679b-b093-471f-dcc5-c47fcc6ff841"
      },
      "execution_count": 19,
      "outputs": [
        {
          "output_type": "stream",
          "name": "stdout",
          "text": [
            "<class 'int'>\n",
            "<class 'float'>\n",
            "<class 'float'>\n"
          ]
        }
      ]
    },
    {
      "cell_type": "markdown",
      "source": [
        "String Multiplication"
      ],
      "metadata": {
        "id": "uK3NS_3ZrUQu"
      }
    },
    {
      "cell_type": "code",
      "source": [
        "kata = 'Matplotlib' * 5"
      ],
      "metadata": {
        "id": "TJtHH93urSXI"
      },
      "execution_count": 20,
      "outputs": []
    },
    {
      "cell_type": "code",
      "source": [
        "print(kata)\n",
        "print(type(kata))"
      ],
      "metadata": {
        "colab": {
          "base_uri": "https://localhost:8080/"
        },
        "id": "uval6UgZrgGc",
        "outputId": "ff289b5d-9964-44d4-9704-db34d8fe89db"
      },
      "execution_count": 25,
      "outputs": [
        {
          "output_type": "stream",
          "name": "stdout",
          "text": [
            "MatplotlibMatplotlibMatplotlibMatplotlibMatplotlib\n",
            "<class 'str'>\n"
          ]
        }
      ]
    },
    {
      "cell_type": "markdown",
      "source": [
        "# Explicit Data Type Conversion\n",
        "\n"
      ],
      "metadata": {
        "id": "uklKZjIerrmf"
      }
    },
    {
      "cell_type": "markdown",
      "source": [
        "In python, we can convert data types explicitly by calling the constructor function of each data type.\n",
        "\n",
        "For primitive data types, we can call the following function:\n",
        "1. int() - for converting data to integer\n",
        "2. float() - for converting data to float\n",
        "3. bool() - for converting data to bool\n",
        "4. str() - for string data conversion (some people mention that string is a primitive data type in python [1])\n",
        "\n",
        "And for other data types that are classified as advanced (or artificial) data types, we can also call each of its constructors to perform data type casting, for example:\n",
        "1. list() - for list\n",
        "2. set() - for set\n",
        "3. tuple() - for tuples"
      ],
      "metadata": {
        "id": "yb2mOUgfr21s"
      }
    },
    {
      "cell_type": "markdown",
      "source": [
        "Convert String to Numeric"
      ],
      "metadata": {
        "id": "xoCQdwx0sY7Y"
      }
    },
    {
      "cell_type": "code",
      "source": [
        "Tinggi = ('150', '167', '180', '188', '155')\n",
        "Berat = ('45', '50', '60', '66', '70')"
      ],
      "metadata": {
        "id": "noWgY5Psrk-o"
      },
      "execution_count": 26,
      "outputs": []
    },
    {
      "cell_type": "code",
      "source": [
        "Tinggi = int(input('150'))\n",
        "Berat = float(input('45'))\n",
        "print('luas=', Tinggi*Berat)"
      ],
      "metadata": {
        "colab": {
          "base_uri": "https://localhost:8080/"
        },
        "id": "bKnlhHLDslbq",
        "outputId": "0ab07384-a87d-46e6-fea9-5d0ac30f7753"
      },
      "execution_count": 29,
      "outputs": [
        {
          "output_type": "stream",
          "name": "stdout",
          "text": [
            "150150\n",
            "4545.0\n",
            "luas= 6750.0\n"
          ]
        }
      ]
    },
    {
      "cell_type": "code",
      "source": [
        "print(int(5.6))\n",
        "print(float(5))"
      ],
      "metadata": {
        "colab": {
          "base_uri": "https://localhost:8080/"
        },
        "id": "fDNETLLStGLm",
        "outputId": "77d2469f-680d-48c8-a598-34eca5b7c93d"
      },
      "execution_count": 30,
      "outputs": [
        {
          "output_type": "stream",
          "name": "stdout",
          "text": [
            "5\n",
            "5.0\n"
          ]
        }
      ]
    },
    {
      "cell_type": "markdown",
      "source": [
        "Numerical to String Conversion"
      ],
      "metadata": {
        "id": "mCZQ80GHtNyD"
      }
    },
    {
      "cell_type": "code",
      "source": [
        "nama = 'Matplotlib'\n",
        "tahun_lahir = 2022"
      ],
      "metadata": {
        "id": "PWTV6HeJtPzE"
      },
      "execution_count": 31,
      "outputs": []
    },
    {
      "cell_type": "code",
      "source": [
        "print(nama+' ' +'lahir di tahun'+\" \" +str(tahun_lahir))"
      ],
      "metadata": {
        "colab": {
          "base_uri": "https://localhost:8080/"
        },
        "id": "wTVvTgI6tcRZ",
        "outputId": "b0f4ed20-55b1-4bed-bc11-6b415fb453c4"
      },
      "execution_count": 34,
      "outputs": [
        {
          "output_type": "stream",
          "name": "stdout",
          "text": [
            "Matplotlib lahir di tahun 2022\n"
          ]
        }
      ]
    },
    {
      "cell_type": "markdown",
      "source": [
        "Convert to List, Set and Tuple"
      ],
      "metadata": {
        "id": "oCpDkGbHtvjb"
      }
    },
    {
      "cell_type": "code",
      "source": [
        "listhuruf = ['d', 'a', 't', 'a', 's', 'c', 'i', 'e', 'n', 'c', 'e']"
      ],
      "metadata": {
        "id": "CM-um9mStoLP"
      },
      "execution_count": 35,
      "outputs": []
    },
    {
      "cell_type": "code",
      "source": [
        "print(listhuruf)\n",
        "print(tuple(listhuruf))\n",
        "print(set(listhuruf))"
      ],
      "metadata": {
        "colab": {
          "base_uri": "https://localhost:8080/"
        },
        "id": "M4E3NK1duOsC",
        "outputId": "b4d8dc6b-9638-4606-f728-492f10925958"
      },
      "execution_count": 36,
      "outputs": [
        {
          "output_type": "stream",
          "name": "stdout",
          "text": [
            "['d', 'a', 't', 'a', 's', 'c', 'i', 'e', 'n', 'c', 'e']\n",
            "('d', 'a', 't', 'a', 's', 'c', 'i', 'e', 'n', 'c', 'e')\n",
            "{'c', 'i', 'd', 'n', 'a', 't', 's', 'e'}\n"
          ]
        }
      ]
    },
    {
      "cell_type": "code",
      "source": [
        "kelompok = {1, 2, 3, 4, 5, 6, 7, 8, 9, 10}"
      ],
      "metadata": {
        "id": "FSF0zEo3ubIe"
      },
      "execution_count": 37,
      "outputs": []
    },
    {
      "cell_type": "code",
      "source": [
        "print(kelompok)\n",
        "print(list(kelompok))\n",
        "print(tuple(kelompok))"
      ],
      "metadata": {
        "colab": {
          "base_uri": "https://localhost:8080/"
        },
        "id": "32UBdUANuk67",
        "outputId": "d2f7ec62-2961-4028-8bed-6295d54333a8"
      },
      "execution_count": 38,
      "outputs": [
        {
          "output_type": "stream",
          "name": "stdout",
          "text": [
            "{1, 2, 3, 4, 5, 6, 7, 8, 9, 10}\n",
            "[1, 2, 3, 4, 5, 6, 7, 8, 9, 10]\n",
            "(1, 2, 3, 4, 5, 6, 7, 8, 9, 10)\n"
          ]
        }
      ]
    }
  ]
}